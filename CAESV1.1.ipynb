{
 "cells": [
  {
   "cell_type": "code",
   "execution_count": 19,
   "metadata": {},
   "outputs": [],
   "source": [
    "from CoolProp.CoolProp import PropsSI\n",
    "# use the letters:\n",
    "# ... T for (T)emperature \n",
    "# ... P for (P)ressure\n",
    "# ... D for (D)ensity (use the density to calculate the specific volume)\n",
    "# ... Q for vapor quality x"
   ]
  },
  {
   "cell_type": "code",
   "execution_count": 122,
   "metadata": {},
   "outputs": [],
   "source": [
    "#Boundary conditions\n",
    "\n",
    "#Ambiant air\n",
    "p0 = 1.03e5 #Pa        TBD\n",
    "T0 = 273+12 #K         TBD\n",
    "\n",
    "#Miscellaneous\n",
    "P = 5e6 #W             TBD\n",
    "R = 8.3145 #J / mol K  \n",
    "Mm = 28.97e-3 #kg/mol\n",
    "cv = 718 #J/ kg K      TBD\n",
    "dt =1  #s\n",
    "p_loss=0.01 #bar       TBD\n",
    "\n",
    "#Cavern\n",
    "V = 1000  #m^3          TBD\n",
    "pmax = 80e5 #bar       TBD\n",
    "m0 = p0*V/T0/R*Mm #kg\n",
    "\n",
    "#Compressor\n",
    "eff_c   = 0.9 #[-]\n",
    "p_ratio_c = 2 #[-]\n",
    "\n",
    "#Turbine\n",
    "eff_t   = 0.9 #[-]\n",
    "p_ratio_t = 2 #[-]\n"
   ]
  },
  {
   "cell_type": "code",
   "execution_count": null,
   "metadata": {},
   "outputs": [],
   "source": [
    "#Functions\n",
    "\n",
    "#Get temperature after (de)pressurising from original temp\n",
    "def Tpres(T,p_ratio):\n",
    "    return T*p_ratio**(R/(Mm*cv+R))\n",
    "\n",
    "#Get enthalpy for known T,p\n",
    "def hTp(p,T):\n",
    "    return PropsSI(\"H\",\"P\",p,\"T\",T,\"air\")\n",
    "\n",
    "#First approximation specific work using enthalpy\n",
    "def W1(p_in,p_ratio,T_in):\n",
    "    p_out = p_in*p_ratio       \n",
    "    T_out = Tpres(T_in,p_ratio)\n",
    "    h_in = hTp(p_in,T_in)\n",
    "    h_out = hTp(p_in,T_out)\n",
    "    return h_out-h_in\n",
    "\n",
    "#Mass flow rate\n",
    "def mdot1():\n",
    "    Work1 = W1(p0,p_ratio,T0)\n",
    "    Work2 = W1(p0*p_ratio,p_ratio,T0)\n",
    "    m=P*(Work1/eff_c+Work2/eff_c)**(-1)\n",
    "    return m\n",
    "\n",
    "#Second approximation specific work including velocities\n",
    "def W2():\n",
    "    #...\n",
    "    return \"null\"\n",
    "\n",
    "#Mass flow rate corrected for kinetic changes\n",
    "def mdot2():\n",
    "    #...\n",
    "    return \"null\"\n"
   ]
  },
  {
   "cell_type": "code",
   "execution_count": 133,
   "metadata": {},
   "outputs": [],
   "source": [
    "#Reset conditions\n",
    "p_cavern = p0\n",
    "m = m0\n",
    "t=0"
   ]
  },
  {
   "cell_type": "code",
   "execution_count": 134,
   "metadata": {},
   "outputs": [],
   "source": [
    "#Fill cavern until full or no more power (tmax is max time there is power)\n",
    "def fill_cavern(tmax):\n",
    "    global p_cavern\n",
    "    global m\n",
    "    global t\n",
    "    \n",
    "    while p_cavern < 0.99*pmax and t < tmax:\n",
    "        #Determine mass in cavern\n",
    "        m += mdot1()*dt\n",
    "    \n",
    "        #Determine pressure in cavern\n",
    "        p_cavern=m*R/Mm*T0/V\n",
    "    \n",
    "        #Determine required pressure ratio\n",
    "        p_ratio=(p_cavern/1e5)**(1/2) + p_loss\n",
    "    \n",
    "        t += dt\n",
    "    if t < tmax:\n",
    "        print('Not all this power can be stored, {0:.1f}% can not be used!'.format((1-t/tmax)*100))\n",
    "        print(\"It took {0:.2f} hours to fill the cavern.\".format(t/3600))\n",
    "    else:\n",
    "        print(\"No more power available.\")\n",
    "        \n",
    "    print(\"Now the pressure is {0:.2f} bar\".format(p_cavern/1e5))\n",
    "    t=0\n",
    "    return p_cavern \n",
    "\n",
    "\n",
    "    \n"
   ]
  },
  {
   "cell_type": "code",
   "execution_count": 135,
   "metadata": {},
   "outputs": [
    {
     "name": "stdout",
     "output_type": "stream",
     "text": [
      "No more power available.\n",
      "Now the pressure is 40.41 bar\n"
     ]
    },
    {
     "data": {
      "text/plain": [
       "4041113.2999667814"
      ]
     },
     "execution_count": 135,
     "metadata": {},
     "output_type": "execute_result"
    }
   ],
   "source": [
    "#First fill for 1.5 hour\n",
    "fill_cavern(3600*1.5)"
   ]
  },
  {
   "cell_type": "code",
   "execution_count": 136,
   "metadata": {},
   "outputs": [
    {
     "name": "stdout",
     "output_type": "stream",
     "text": [
      "No more power available.\n",
      "Now the pressure is 66.67 bar\n"
     ]
    },
    {
     "data": {
      "text/plain": [
       "6666522.166610609"
      ]
     },
     "execution_count": 136,
     "metadata": {},
     "output_type": "execute_result"
    }
   ],
   "source": [
    "#Second fill for 1 hour\n",
    "fill_cavern(3600)"
   ]
  },
  {
   "cell_type": "code",
   "execution_count": null,
   "metadata": {},
   "outputs": [],
   "source": []
  }
 ],
 "metadata": {
  "kernelspec": {
   "display_name": "Python 3",
   "language": "python",
   "name": "python3"
  },
  "language_info": {
   "codemirror_mode": {
    "name": "ipython",
    "version": 3
   },
   "file_extension": ".py",
   "mimetype": "text/x-python",
   "name": "python",
   "nbconvert_exporter": "python",
   "pygments_lexer": "ipython3",
   "version": "3.6.7"
  }
 },
 "nbformat": 4,
 "nbformat_minor": 2
}
