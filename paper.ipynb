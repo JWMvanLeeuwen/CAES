{
 "cells": [
  {
   "cell_type": "code",
   "execution_count": 1,
   "metadata": {},
   "outputs": [],
   "source": [
    "from CoolProp.CoolProp import PropsSI\n",
    "import random \n",
    "# use the letters:\n",
    "# ... T for (T)emperature \n",
    "# ... P for (P)ressure\n",
    "# ... D for (D)ensity (use the density to calculate the specific volume)\n",
    "# ... Q for vapor quality x"
   ]
  },
  {
   "cell_type": "markdown",
   "metadata": {},
   "source": [
    "<img src=\"basic-CAES-model.png\">"
   ]
  },
  {
   "cell_type": "code",
   "execution_count": 22,
   "metadata": {},
   "outputs": [
    {
     "name": "stdout",
     "output_type": "stream",
     "text": [
      "976734.9026210735\n",
      "-131306.8493405779\n",
      "265.96331372313\n"
     ]
    }
   ],
   "source": [
    "#Boundary conditions and constants\n",
    "\n",
    "#Ambiant air\n",
    "p1 = 1.013e5   # Pa\n",
    "T1 = 273.15+20 # K\n",
    "Ra = 287.06    # J/kgK\n",
    "cp = 1059.7    # J/kgK\n",
    "\n",
    "#Miscellaneous\n",
    "gamma = cp/(cp-Ra) #[-]\n",
    "Pwind = 300e6      # W\n",
    "t_rampup = 15*60   # s\n",
    "T3 = 893.15        # K\n",
    "T4 = 323.15        # K\n",
    "T5 = 873.15        # K\n",
    "mdot_max = 500     # kg/s\n",
    "\n",
    "#Cavern\n",
    "V = 500000    # m^3         \n",
    "p4max = 150e5 # Pa       \n",
    "p4min = 100e5 # Pa\n",
    "\n",
    "#TES \n",
    "eff_TES = 0.977\n",
    "\n",
    "#Compressor\n",
    "eff_c   = 0.875 #[-]\n",
    "n_c = eff_c*gamma/(eff_c*gamma-gamma+1) #[-]\n",
    "Pc_max = 300e6 # max compressor power\n",
    "\n",
    "#Turbine\n",
    "eff_t   = 0.925 #[-]\n",
    "n_t = eff_t*gamma/(eff_t*gamma-gamma+1) #[-]\n",
    "Pt_max = 300e6 # max turbine power\n",
    "\n",
    "#Motor & Generator\n",
    "eff_m = 0.98 #[-]\n",
    "eff_g = 0.98 #[-]\n",
    "\n",
    "\n",
    "\n",
    "#Functions\n",
    "\n",
    "#Input power, including start up time compressor, without eff_m\n",
    "def Pin(t):\n",
    "    if t > t_rampup:\n",
    "        Pin = Pwind\n",
    "    else:\n",
    "        Pin = Pwind*t/t_rampup\n",
    "    return Pin\n",
    "\n",
    "#Isothermal relation for temperature after compression, p4 = p2 = pcavern = f(t)\n",
    "#According to paper the results should be 1120K for 100 bar and 1255K for 150 bar\n",
    "#Formula with compressor efficiency models this better, should we change this @Walid\n",
    "def Tcompr():\n",
    "    T2=T1*(p4/p1)**((gamma-1)/gamma)\n",
    "    return T2\n",
    "\n",
    "\n",
    "\n",
    "#Starting conditions\n",
    "\n",
    "#Initial pressure in cavern\n",
    "p4 = p4min\n",
    "\n",
    "t=15*60 #Test value, should be t=0 for model and change in loop\n",
    "\n",
    "\n",
    "\n",
    "#Other code\n",
    "\n",
    "#Specific work theoretical equation\n",
    "#Will change bc p4 = f(t)\n",
    "dh = n_c/(n_c-1)/eff_c*Ra*T1*((p4/p1)**((n_c-1)/n_c)-1)\n",
    "\n",
    "#Specific heat reduction for temperature restrictions (q23)\n",
    "#Will change bc Tcompr = f(p4) and p4 = f(t)\n",
    "q = cp*(T3-Tcompr()) # multiply by mdot?\n",
    "\n",
    "# mass flow as a function of time\n",
    "def mdot(t):\n",
    "    return Pin(t)/(dh/eff_m+abs(q))\n",
    "\n",
    "print(dh)\n",
    "print(q)\n",
    "print(mdot(t))"
   ]
  },
  {
   "cell_type": "code",
   "execution_count": 23,
   "metadata": {},
   "outputs": [],
   "source": [
    "# TES, cavern and turbine\n",
    "\n",
    "p5 = p4 # Assuming no pressure loss over TES\n",
    "\n",
    "\n",
    "def q34dot(t):\n",
    "    return mdot(t)* cp *(T4 - (T3-20))\n",
    "    "
   ]
  },
  {
   "cell_type": "code",
   "execution_count": 24,
   "metadata": {},
   "outputs": [],
   "source": [
    "import matplotlib.pyplot as plt\n",
    "import numpy as np"
   ]
  },
  {
   "cell_type": "code",
   "execution_count": 32,
   "metadata": {},
   "outputs": [
    {
     "data": {
      "image/png": "[encoded data removed]",
      "text/plain": [
       "<Figure size 432x288 with 1 Axes>"
      ]
     },
     "metadata": {
      "needs_background": "light"
     },
     "output_type": "display_data"
    }
   ],
   "source": [
    "x = []\n",
    "y = []\n",
    "for i in np.linspace(0, 15*60, 1000):\n",
    "    x.append(i)\n",
    "    y.append(q34dot(i))\n",
    "plt.plot(x, y)\n",
    "plt.xlabel(\"time (s)\")\n",
    "plt.ylabel(\"q_34(t)\")\n",
    "plt.show()"
   ]
  },
  {
   "cell_type": "code",
   "execution_count": null,
   "metadata": {},
   "outputs": [],
   "source": []
  },
  {
   "cell_type": "code",
   "execution_count": null,
   "metadata": {},
   "outputs": [],
   "source": []
  }
 ],
 "metadata": {
  "kernelspec": {
   "display_name": "Python 3",
   "language": "python",
   "name": "python3"
  },
  "language_info": {
   "codemirror_mode": {
    "name": "ipython",
    "version": 3
   },
   "file_extension": ".py",
   "mimetype": "text/x-python",
   "name": "python",
   "nbconvert_exporter": "python",
   "pygments_lexer": "ipython3",
   "version": "3.7.4"
  }
 },
 "nbformat": 4,
 "nbformat_minor": 2
}
