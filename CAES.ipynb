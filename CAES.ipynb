{
 "cells": [
  {
   "cell_type": "code",
   "execution_count": 2,
   "metadata": {},
   "outputs": [],
   "source": [
    "from CoolProp.CoolProp import PropsSI\n",
    "import random \n",
    "# use the letters:\n",
    "# ... T for (T)emperature \n",
    "# ... P for (P)ressure\n",
    "# ... D for (D)ensity (use the density to calculate the specific volume)\n",
    "# ... Q for vapor quality x"
   ]
  },
  {
   "cell_type": "code",
   "execution_count": 3,
   "metadata": {},
   "outputs": [],
   "source": [
    "#Boundary conditions\n",
    "\n",
    "#Ambiant air\n",
    "p0 = 1.03e5 #Pa        TBD\n",
    "T0 = 273+12 #K         TBD\n",
    "\n",
    "#Miscellaneous\n",
    "P = 1e6 #W             TBD\n",
    "R = 8.3145 #J / mol K  \n",
    "Mm = 28.97e-3 #kg/mol\n",
    "cv = 718 #J/ kg K      TBD\n",
    "dt =1  #s\n",
    "p_loss=0.001 #bar       TBD\n",
    "\n",
    "#Cavern\n",
    "V = 500  #m^3          TBD\n",
    "pmax = 80e5 #bar       TBD\n",
    "m0 = p0*V/T0/R*Mm #kg\n",
    "\n",
    "#Compressor\n",
    "eff_c   = 0.9 #[-]\n",
    "p_ratio_c = 2 #[-]\n",
    "\n",
    "#Turbine\n",
    "eff_t   = 0.9 #[-]\n",
    "p_ratio_t = 2 #[-]\n",
    "\n",
    "#Requested power\n",
    "Pout=10*P #W           TBD\n"
   ]
  },
  {
   "cell_type": "code",
   "execution_count": 4,
   "metadata": {},
   "outputs": [],
   "source": [
    "#Functions\n",
    "\n",
    "#Get temperature after (de)pressurising from original temp\n",
    "def Tpres(T,p_ratio):\n",
    "    return T*p_ratio**(R/(Mm*cv+R))\n",
    "\n",
    "#Get enthalpy for known T,p\n",
    "def hTp(p,T):\n",
    "    return PropsSI(\"H\",\"P\",p,\"T\",T,\"air\") # in J/kg\n",
    "\n",
    "#First approximation specific work using enthalpy\n",
    "def W1(p_in,p_ratio,T_in):\n",
    "    p_out = p_in*p_ratio       \n",
    "    T_out = Tpres(T_in,p_ratio)\n",
    "    h_in = hTp(p_in,T_in)\n",
    "    h_out = hTp(p_in,T_out)\n",
    "    return h_out-h_in # W/kg\n",
    "\n",
    "#Mass flow rate calculation based on input power, efficiencies and required specific work\n",
    "def mdot1(p_ratio):\n",
    "    Work1 = W1(p0,p_ratio,T0)\n",
    "    Work2 = W1(p0*p_ratio,p_ratio,T0)\n",
    "    m=P*eff_c/(Work1+Work2)\n",
    "    return m\n",
    "\n",
    "#Second approximation specific work including velocities\n",
    "def W2():\n",
    "    #...\n",
    "    return \"null\"\n",
    "\n",
    "#Mass flow rate corrected for kinetic changes\n",
    "def mdot2():\n",
    "    #...\n",
    "    return \"null\"\n",
    "\n",
    "#Function to fill the cavern\n",
    "def fill_cavern(tmax):\n",
    "    \n",
    "    #Required argument for python while loop\n",
    "    global p_cavern\n",
    "    global m\n",
    "    global t\n",
    "    \n",
    "    #Fill cavern until full or no more power (tmax is max time there is power)\n",
    "    while p_cavern < pmax and t < tmax:\n",
    "        \n",
    "        #Determine required pressure ratio\n",
    "        p_ratio = (p_cavern/p0)**(1/2) + p_loss\n",
    "\n",
    "        #Determine mass in cavern\n",
    "        m += mdot1(p_ratio)*dt\n",
    "\n",
    "        #Determine pressure in cavern\n",
    "        p_cavern = m*R/Mm*T0/V\n",
    "    \n",
    "        t += dt\n",
    "    if t < tmax:\n",
    "        print('Not all this power can be stored, {0:.1f}% can not be used!'.format((1-t/tmax)*100))\n",
    "        print(\"It took {0:.2f} hours to fill the cavern.\".format(t/3600))\n",
    "    else:\n",
    "        print(\"No more power available.\")\n",
    "        \n",
    "    print(\"Now the pressure is {0:.2f} bar\".format(p_cavern/1e5))\n",
    "    t=0\n",
    "\n",
    "\n"
   ]
  },
  {
   "cell_type": "code",
   "execution_count": 5,
   "metadata": {},
   "outputs": [],
   "source": [
    "#Work in progress functions\n",
    "def empty_cavern(tmax):\n",
    "    global p_cavern\n",
    "    global m\n",
    "    global t\n",
    "    \n",
    "    while p_cavern > 2*p0 and t < tmax:\n",
    "        p_ratio = (p0/p_cavern)**(1/2)\n",
    "        m += Pout/eff_t/(W1(p_cavern,p_ratio,T0)+W1(p_cavern*p_ratio,p_ratio,T0))\n",
    "        p_cavern = m*R/Mm*T0/V\n",
    "    \n",
    "        t += dt\n",
    "    \n",
    "    if t < tmax:\n",
    "        print(\"No more power available, ran out at {0:.2f} hours.\".format(t/3600))\n",
    "    else:\n",
    "        print(\"Not out of energy :).\")\n",
    "        \n",
    "    print(\"Now the pressure is {0:.2f} bar\".format(p_cavern/1e5))\n",
    "    t=0\n",
    "\n",
    "\n",
    "\n",
    "\n",
    "    \n"
   ]
  },
  {
   "cell_type": "code",
   "execution_count": 13,
   "metadata": {},
   "outputs": [],
   "source": [
    "#Reset conditions\n",
    "p_cavern = p0\n",
    "m = m0\n",
    "t = 0"
   ]
  },
  {
   "cell_type": "code",
   "execution_count": 14,
   "metadata": {},
   "outputs": [
    {
     "name": "stdout",
     "output_type": "stream",
     "text": [
      "No more power available.\n",
      "Now the pressure is 77.10 bar\n"
     ]
    }
   ],
   "source": [
    "#First fill for x hours\n",
    "fill_cavern(3600*4)"
   ]
  },
  {
   "cell_type": "code",
   "execution_count": 8,
   "metadata": {},
   "outputs": [
    {
     "name": "stdout",
     "output_type": "stream",
     "text": [
      "Not all this power can be stored, 15.1% can not be used!\n",
      "It took 1.27 hours to fill the cavern.\n",
      "Now the pressure is 80.00 bar\n"
     ]
    }
   ],
   "source": [
    "#Second fill for y hour(s)\n",
    "fill_cavern(3600*1.5)"
   ]
  },
  {
   "cell_type": "code",
   "execution_count": 9,
   "metadata": {},
   "outputs": [
    {
     "name": "stdout",
     "output_type": "stream",
     "text": [
      "Not out of energy :).\n",
      "Now the pressure is 59.81 bar\n"
     ]
    }
   ],
   "source": [
    "#Extracting energy from cavern\n",
    "empty_cavern(3600*0.1)"
   ]
  },
  {
   "cell_type": "code",
   "execution_count": 10,
   "metadata": {},
   "outputs": [
    {
     "name": "stdout",
     "output_type": "stream",
     "text": [
      "No more power available, ran out at 0.20 hours.\n",
      "Now the pressure is 1.91 bar\n"
     ]
    }
   ],
   "source": [
    "#Extracting energy from cavern\n",
    "empty_cavern(3600*0.3)"
   ]
  },
  {
   "cell_type": "code",
   "execution_count": 11,
   "metadata": {},
   "outputs": [
    {
     "data": {
      "text/plain": [
       "426300.77587390563"
      ]
     },
     "execution_count": 11,
     "metadata": {},
     "output_type": "execute_result"
    }
   ],
   "source": [
    "PropsSI(\"H\",\"P\",10**5,\"T\",300,\"air\")"
   ]
  },
  {
   "cell_type": "code",
   "execution_count": 16,
   "metadata": {},
   "outputs": [
    {
     "name": "stdout",
     "output_type": "stream",
     "text": [
      "hello world\n"
     ]
    }
   ],
   "source": [
    "print(\"hello world\")"
   ]
  },
  {
   "cell_type": "code",
   "execution_count": null,
   "metadata": {},
   "outputs": [],
   "source": []
  }
 ],
 "metadata": {
  "kernelspec": {
   "display_name": "Python 3",
   "language": "python",
   "name": "python3"
  },
  "language_info": {
   "codemirror_mode": {
    "name": "ipython",
    "version": 3
   },
   "file_extension": ".py",
   "mimetype": "text/x-python",
   "name": "python",
   "nbconvert_exporter": "python",
   "pygments_lexer": "ipython3",
   "version": "3.7.4"
  }
 },
 "nbformat": 4,
 "nbformat_minor": 2
}
