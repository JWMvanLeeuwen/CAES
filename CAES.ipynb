{
 "cells": [
  {
   "cell_type": "code",
   "execution_count": 22,
   "metadata": {},
   "outputs": [],
   "source": [
    "from CoolProp.CoolProp import PropsSI\n",
    "# use the letters:\n",
    "# ... T for (T)emperature \n",
    "# ... P for (P)ressure\n",
    "# ... D for (D)ensity (use the density to calculate the specific volume)\n",
    "# ... Q for vapor quality x"
   ]
  },
  {
   "cell_type": "code",
   "execution_count": 7,
   "metadata": {},
   "outputs": [
    {
     "name": "stdout",
     "output_type": "stream",
     "text": [
      "959.06684429892\n"
     ]
    }
   ],
   "source": [
    "fluid=\"water\"\n",
    "T=99+273.15 #K\n",
    "p=1.03*10**5   #bar\n",
    "D=PropsSI(\"D\",\"P\",p,\"T\",T,fluid)\n",
    "print(D)"
   ]
  },
  {
   "cell_type": "code",
   "execution_count": 16,
   "metadata": {},
   "outputs": [
    {
     "name": "stdout",
     "output_type": "stream",
     "text": [
      "Critical pressure =  37.86  [bar]\n",
      "Critical temperature =  -140.61939999999998 [°C]\n",
      "Critical specific volume = 0.0029040690284393503 [kg/m3]\n"
     ]
    }
   ],
   "source": [
    "fluid = \"air\"\n",
    "\n",
    "p_Critical = PropsSI(\"Pcrit\",fluid)\n",
    "T_Critical = PropsSI(\"Tcrit\",fluid)\n",
    "\n",
    "# get the density at the critical point\n",
    "rho_Critical = PropsSI(\"D\", \"P\", p_Critical, \"T\", T_Critical, fluid) \n",
    "specVol_Critical = 1.0/rho_Critical\n",
    "\n",
    "\n",
    "print(\"Critical pressure = \", p_Critical/1e5, \" [bar]\")\n",
    "print(\"Critical temperature = \", T_Critical - 273.15, \"[°C]\")\n",
    "print(\"Critical specific volume =\",specVol_Critical, \"[kg/m3]\")\n",
    "\n"
   ]
  },
  {
   "cell_type": "code",
   "execution_count": 29,
   "metadata": {},
   "outputs": [
    {
     "name": "stdout",
     "output_type": "stream",
     "text": [
      "De Enthalphy is 625.704979 kJ/kg\n"
     ]
    }
   ],
   "source": [
    "fluid=\"R134a\"\n",
    "pin=1.03e5\n",
    "Tin=225+273.15\n",
    "Hin=PropsSI(\"H\",\"P\",pin,\"T\",Tin,fluid)\n",
    "print(\"De Enthalphy is {0:1f} kJ/kg\".format(Hin/1000))"
   ]
  },
  {
   "cell_type": "code",
   "execution_count": 15,
   "metadata": {},
   "outputs": [
    {
     "name": "stdout",
     "output_type": "stream",
     "text": [
      "629390.5389422842\n",
      "422275.647003171\n",
      "The work is 207171.8638930432 kJ/kg\n"
     ]
    }
   ],
   "source": [
    "p0=1e5 #Pa\n",
    "pmax=1.1e5 #Pa\n",
    "Tin=23+273 #K\n",
    "Tout= 500 #K\n",
    "fluid='air'\n",
    "def h(p,T):\n",
    "    h=PropsSI(\"H\",\"P\",p,\"T\",T,fluid)\n",
    "    return h\n",
    "\n",
    "def work(p1,p2,T1,T2):\n",
    "    return h(p2,T2)- h(p1,T1)\n",
    "print(h(pmax,Tout))\n",
    "print(h(p0,Tin))\n",
    "print(\"The work is {} kJ/kg\".format(work(p0,pmax**(1/2),Tin,Tout)))"
   ]
  },
  {
   "cell_type": "code",
   "execution_count": null,
   "metadata": {},
   "outputs": [],
   "source": []
  },
  {
   "cell_type": "code",
   "execution_count": 64,
   "metadata": {},
   "outputs": [
    {
     "name": "stdout",
     "output_type": "stream",
     "text": [
      "337874.8478091608\n"
     ]
    }
   ],
   "source": [
    "#Boundary conditions\n",
    "\n",
    "#Ambiant air\n",
    "p0 = 1.03e5 #Pa\n",
    "T0 = 273+12 #K\n",
    "\n",
    "#Miscellaneous\n",
    "P = 0 #W\n",
    "R = 8.3145 #J / mol K  \n",
    "Mm = 28.97e-3 #kg/mol\n",
    "cv= 718 #J/ kg K\n",
    "\n",
    "\n",
    "\n",
    "#Compressor\n",
    "eff_c   = 1 #[-]\n",
    "p_ratio_c = 1.01 #[-]\n",
    "\n",
    "#Turbine\n",
    "eff_t   = 1 #[-]\n",
    "p_ratio_t = 1.01 #[-]\n",
    "\n",
    "\n",
    "#Functions\n",
    "\n",
    "#Get temperature after (de)pressurising from original temp\n",
    "def Tpres(T,p_ratio):\n",
    "    return T*p_ratio**(R/Mm/(cv+R))\n",
    "\n",
    "#Get enthalpy for known T,p\n",
    "def hTp(p,T):\n",
    "    return PropsSI(\"H\",\"P\",p,\"T\",T,\"air\")\n",
    "\n",
    "#First approximation specific work using enthalpy\n",
    "def W1(p_in,p_ratio,T_in):\n",
    "    p_out = p_in*p_ratio       \n",
    "    T_out = Tpres(T_in,p_ratio)\n",
    "    h_in = hTp(p_in,T_in)\n",
    "    h_out = hTp(p_in,T_out)\n",
    "    return h_out-h_in\n",
    "\n",
    "#Mass flow rate\n",
    "#Maybe should not be defined as a function...\n",
    "def mdot(Tmid):\n",
    "    Work1 = W1(p0,p_ratio_c,T0)\n",
    "    Work2 = W1(p0*p_ratio,p_ratio_c,Tmid)\n",
    "    m=P*(Work1/eff_c+Work2/eff_c)**(-1)\n",
    "    return m\n",
    "\n",
    "#Second approximation specific work\n",
    "def W2():\n",
    "    #...\n",
    "    return \"null\"\n",
    "\n",
    "\n",
    "print(W1(p0,7,T0))"
   ]
  },
  {
   "cell_type": "code",
   "execution_count": null,
   "metadata": {},
   "outputs": [],
   "source": []
  }
 ],
 "metadata": {
  "kernelspec": {
   "display_name": "Python 3",
   "language": "python",
   "name": "python3"
  },
  "language_info": {
   "codemirror_mode": {
    "name": "ipython",
    "version": 3
   },
   "file_extension": ".py",
   "mimetype": "text/x-python",
   "name": "python",
   "nbconvert_exporter": "python",
   "pygments_lexer": "ipython3",
   "version": "3.6.7"
  }
 },
 "nbformat": 4,
 "nbformat_minor": 2
}
